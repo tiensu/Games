{
 "cells": [
  {
   "cell_type": "markdown",
   "metadata": {},
   "source": [
    "# <center> <font style=\"color:rgb(100,109,254)\"> Playing Rock, Paper, Scissors with AI</font> </center>\n"
   ]
  },
  {
   "cell_type": "code",
   "execution_count": 55,
   "metadata": {},
   "outputs": [],
   "source": [
    "# !jt -l"
   ]
  },
  {
   "cell_type": "code",
   "execution_count": 56,
   "metadata": {},
   "outputs": [],
   "source": [
    "# !jt -t chesterish -T -N -kl\n",
    "# !jt -r"
   ]
  },
  {
   "cell_type": "markdown",
   "metadata": {},
   "source": [
    "###  <font style=\"color:rgb(134,19,348)\">Import Libraries </font>"
   ]
  },
  {
   "cell_type": "code",
   "execution_count": 57,
   "metadata": {},
   "outputs": [],
   "source": [
    "import os\n",
    "import cv2\n",
    "import time\n",
    "import numpy as np\n",
    "\n",
    "from scipy import stats as st\n",
    "from random import choice\n",
    "from collections import deque\n",
    "from tensorflow.keras.models import load_model"
   ]
  },
  {
   "cell_type": "markdown",
   "metadata": {},
   "source": [
    "### Declare global variables"
   ]
  },
  {
   "cell_type": "code",
   "execution_count": 58,
   "metadata": {},
   "outputs": [],
   "source": [
    "# Initialize the camera\n",
    "cap = cv2.VideoCapture(0)\n",
    "\n",
    "# Frame from camera video\n",
    "frame = None\n",
    "\n",
    "# Trigger tells us when to start recording\n",
    "trigger = False\n",
    "\n",
    "# hand_sign to hold name of each of hand sign.\n",
    "hand_sign = ''\n",
    "\n",
    "# Counter keeps count of the number of samples collected\n",
    "counter = 0\n",
    "\n",
    "# Indicator text on screen\n",
    "text = ''\n",
    "\n",
    "# This the ROI size, the size of images saved will be box_size - 10 (= 224)\n",
    "box_size = 234\n",
    "\n",
    "# Getting the width of the frame from the camera properties\n",
    "width = int(cap.get(3))\n",
    "\n",
    "# Specify the number of attempts you want.\n",
    "attempts = 10"
   ]
  },
  {
   "cell_type": "code",
   "execution_count": null,
   "metadata": {},
   "outputs": [],
   "source": [
    "# Initially the moves will be `nothing`\n",
    "computer_move_name= \"nothing\"\n",
    "final_user_move = \"nothing\"\n",
    "\n",
    "# All scores are 0 at the start.\n",
    "computer_score, user_score = 0, 0\n",
    "\n",
    "# The default color of bounding box is Blue\n",
    "rect_color = (255, 0, 0)\n",
    "\n",
    "# This variables remembers if the hand is inside the box or not.\n",
    "hand_inside = False\n",
    "\n",
    "# At each iteration we will decrease the total_attempts value by 1\n",
    "total_attempts = attempts\n",
    "\n",
    "# We will only consider predictions having confidence above this threshold.\n",
    "confidence_threshold = 0.70\n",
    "\n",
    "# Instead of working on a single prediciton, we will take the mode of 5 predictons by using a deque object\n",
    "# This way even if we face a false postive, we would easily ignore it\n",
    "smooth_factor = 5\n",
    "\n",
    "# Our initial deque list will have 'nothing' repeated 5 times.\n",
    "de = deque(['nothing'] * 5, maxlen=smooth_factor)\n",
    "\n",
    "final_user_move, computer_move_name, rect_color, winner = '', '', None, ''"
   ]
  },
  {
   "cell_type": "markdown",
   "metadata": {},
   "source": [
    "### Create UI function"
   ]
  },
  {
   "cell_type": "code",
   "execution_count": 59,
   "metadata": {},
   "outputs": [],
   "source": [
    "def create_ui_pro(title):\n",
    "    global frame\n",
    "    \n",
    "    # Flip the frame to make it more realistic.\n",
    "    frame = cv2.flip(frame, 1)\n",
    "\n",
    "    # Define ROI for capturing samples\n",
    "    cv2.rectangle(frame, (width - box_size, 0), (width, box_size), (0, 250, 150), 2)\n",
    "\n",
    "    # Make a resizable window.\n",
    "    cv2.namedWindow(title, cv2.WINDOW_NORMAL)"
   ]
  },
  {
   "cell_type": "code",
   "execution_count": 60,
   "metadata": {},
   "outputs": [],
   "source": [
    "def show_ui(title):\n",
    "    global frame, text\n",
    "    \n",
    "    # Show the counter on the imaege\n",
    "    cv2.putText(frame, text, (3, 350), cv2.FONT_HERSHEY_SIMPLEX, 0.45, (0, 0, 255), 1, cv2.LINE_AA)\n",
    "\n",
    "    # Display the window\n",
    "    cv2.imshow(title, frame)"
   ]
  },
  {
   "cell_type": "markdown",
   "metadata": {},
   "source": [
    "###  <font style=\"color:rgb(134,19,348)\"> Load the model </font>"
   ]
  },
  {
   "cell_type": "code",
   "execution_count": 61,
   "metadata": {},
   "outputs": [],
   "source": [
    "model = load_model(\"rps4.h5\")"
   ]
  },
  {
   "cell_type": "markdown",
   "metadata": {},
   "source": [
    "### AI model prediction function"
   ]
  },
  {
   "cell_type": "code",
   "execution_count": 62,
   "metadata": {},
   "outputs": [],
   "source": [
    "# Name of hand signs\n",
    "hand_signs_list = ['nothing', 'paper', 'rock', 'scissor']"
   ]
  },
  {
   "cell_type": "code",
   "execution_count": 63,
   "metadata": {},
   "outputs": [],
   "source": [
    "def make_prediction():\n",
    "    global frame\n",
    "    roi = frame[5: box_size-5 , width-box_size + 5: width -5]\n",
    "    \n",
    "    # Normalize the image like we did in the preprocessing step, also convert float64 array.\n",
    "    roi = np.array([roi]).astype('float64') / 255.0\n",
    " \n",
    "    # Get model's prediction.\n",
    "    pred = model.predict(roi)\n",
    "    \n",
    "    # Get the index of the target class.\n",
    "    move_code = np.argmax(pred[0])\n",
    "    \n",
    "    # Get the class name of the predicted class\n",
    "    user_move = hand_signs_list[move_code]\n",
    "\n",
    "    # Get the probability of the target class\n",
    "    prob = np.max(pred[0])\n",
    "    \n",
    "    return pred, user_move, prob"
   ]
  },
  {
   "cell_type": "markdown",
   "metadata": {},
   "source": [
    "###  <font style=\"color:rgb(134,19,348)\"> Function for finding the Winner </font>\n",
    "First we need a function that takes two moves, one by the user and one the computer and then finds out who won that round. This function is pretty simple as you can see below."
   ]
  },
  {
   "cell_type": "code",
   "execution_count": 64,
   "metadata": {},
   "outputs": [],
   "source": [
    "def findout_winner_one(user_move, Computer_move):\n",
    "    \n",
    "    # All logic below is self explanatory \n",
    "    \n",
    "    if user_move == Computer_move:\n",
    "        return \"Tie\"\n",
    "    \n",
    "    \n",
    "    elif user_move == \"rock\" and Computer_move == \"scissor\":\n",
    "        return \"User\"\n",
    "    \n",
    "    elif user_move == \"rock\" and Computer_move == \"paper\":\n",
    "        return \"Computer\"\n",
    "    \n",
    "    elif user_move == \"scissor\" and Computer_move == \"rock\":\n",
    "        return \"Computer\"\n",
    "    \n",
    "    elif user_move == \"scissor\" and Computer_move == \"paper\":\n",
    "        return \"User\"\n",
    "    \n",
    "    elif user_move == \"paper\" and Computer_move == \"rock\":\n",
    "        return \"User\"\n",
    "    \n",
    "    elif user_move == \"paper\" and Computer_move == \"scissor\":\n",
    "        return \"Computer\""
   ]
  },
  {
   "cell_type": "markdown",
   "metadata": {},
   "source": [
    "###  <font style=\"color:rgb(134,19,348)\"> Function for find the image of Winner at the end Game </font>"
   ]
  },
  {
   "cell_type": "code",
   "execution_count": 65,
   "metadata": {},
   "outputs": [],
   "source": [
    "def get_winner_img():    \n",
    "    if user_score > computer_score:\n",
    "        winner_img = 'youwin.jpg'\n",
    "        \n",
    "    elif user_score < computer_score:\n",
    "        winner_img = 'comwin.jpg'\n",
    "        \n",
    "    else:\n",
    "        winner_img = 'nobodywin.jpg'\n",
    "        \n",
    "    return winner_img"
   ]
  },
  {
   "cell_type": "markdown",
   "metadata": {},
   "source": [
    "###  <font style=\"color:rgb(134,19,348)\"> Function for Displaying Computer's Move (Optional) </font>\n",
    "\n",
    "This function displays a picture of either 'rock', 'paper' or  'scissor' based on what the computer played. "
   ]
  },
  {
   "cell_type": "code",
   "execution_count": 66,
   "metadata": {},
   "outputs": [],
   "source": [
    "def display_computer_move(computer_move_name):\n",
    "    global frame\n",
    "    icon = cv2.imread( \"images/{}.png\".format(computer_move_name), 1)\n",
    "    icon = cv2.resize(icon, (224,224))\n",
    "    \n",
    "    # This is the portion which we are going to replace with the icon image\n",
    "    roi = frame[0:224, 0:224]\n",
    "\n",
    "    # Get binary mask from the transparent image, 4th channel is the alpha channel \n",
    "    mask = icon[:,:,-1] \n",
    "\n",
    "    # Making the mask completely binary (black & white)\n",
    "    mask = cv2.threshold(mask, 1, 255, cv2.THRESH_BINARY)[1]\n",
    "\n",
    "    # Store the normal bgr image\n",
    "    icon_bgr = icon[:,:,:3] \n",
    "    \n",
    "    # Now combine the foreground of the icon with background of ROI \n",
    "    \n",
    "    img1_bg = cv2.bitwise_and(roi, roi, mask = cv2.bitwise_not(mask))\n",
    "\n",
    "    img2_fg = cv2.bitwise_and(icon_bgr, icon_bgr, mask = mask)\n",
    "\n",
    "    combined = cv2.add(img1_bg, img2_fg)\n",
    "\n",
    "    frame[0:224, 0:224] = combined\n",
    "\n",
    "    return frame"
   ]
  },
  {
   "cell_type": "markdown",
   "metadata": {},
   "source": [
    "### Function to display image of winner at the end game"
   ]
  },
  {
   "cell_type": "code",
   "execution_count": 67,
   "metadata": {},
   "outputs": [],
   "source": [
    "def display_winner(winner):\n",
    "    global frame\n",
    "    icon = cv2.imread( \"images/{}\".format(winner), 1)\n",
    "    icon = cv2.resize(icon, (224,224))\n",
    "    \n",
    "    # This is the portion which we are going to replace with the icon image\n",
    "    roi = frame[256:480, 208:432]\n",
    "\n",
    "    # Get binary mask from the transparent image, 4th channel is the alpha channel \n",
    "    mask = icon[:,:,-1] \n",
    "\n",
    "    # Making the mask completely binary (black & white)\n",
    "    mask = cv2.threshold(mask, 1, 255, cv2.THRESH_BINARY)[1]\n",
    "\n",
    "    # Store the normal bgr image\n",
    "    icon_bgr = icon[:,:,:3] \n",
    "    \n",
    "    # Now combine the foreground of the icon with background of ROI \n",
    "    \n",
    "    img1_bg = cv2.bitwise_and(roi, roi, mask = cv2.bitwise_not(mask))\n",
    "\n",
    "    img2_fg = cv2.bitwise_and(icon_bgr, icon_bgr, mask = mask)\n",
    "\n",
    "    combined = cv2.add(img1_bg, img2_fg)\n",
    "\n",
    "    frame[256:480, 208:432] = combined"
   ]
  },
  {
   "cell_type": "markdown",
   "metadata": {},
   "source": [
    "### Function to calculate game score"
   ]
  },
  {
   "cell_type": "code",
   "execution_count": 68,
   "metadata": {},
   "outputs": [],
   "source": [
    "def cal_score():\n",
    "    global user_score, computer_score, total_attempts, rect_color, winner\n",
    "    \n",
    "    # Subtract one attempt\n",
    "    total_attempts -= 1\n",
    "\n",
    "    # If winner is computer then it gets points and vice versa.\n",
    "    # We're also changing the color of rectangle based on who wins the round.\n",
    "\n",
    "    if winner == \"Computer\":\n",
    "        computer_score +=1\n",
    "        rect_color = (0, 0, 255)\n",
    "\n",
    "    elif winner == \"User\":\n",
    "        user_score += 1;\n",
    "        rect_color = (0, 250, 0)\n",
    "\n",
    "\n",
    "    elif winner == \"Tie\":\n",
    "        rect_color = (255, 250, 255)"
   ]
  },
  {
   "cell_type": "markdown",
   "metadata": {},
   "source": [
    "### Function to display game indication text on screen"
   ]
  },
  {
   "cell_type": "code",
   "execution_count": 69,
   "metadata": {},
   "outputs": [],
   "source": [
    "def show_ui_game():\n",
    "\n",
    "    global rect_color, total_attempts, frame\n",
    "    \n",
    "    # This is where all annotation is happening. \n",
    "    \n",
    "    cv2.putText(frame, \"Your Score: \" + str(user_score),\n",
    "                    (450, 300), cv2.FONT_HERSHEY_SIMPLEX, 0.6, (0, 255, 0), 1, cv2.LINE_AA)\n",
    "    cv2.putText(frame, \"Computer Score: \" + str(computer_score),\n",
    "                    (2, 300), cv2.FONT_HERSHEY_SIMPLEX, 0.6, (0, 255, 0), 1, cv2.LINE_AA)\n",
    "\n",
    "    \n",
    "    if total_attempts != 0:\n",
    "        cv2.putText(frame, \"Your Move: \" + final_user_move,\n",
    "                    (450, 270), cv2.FONT_HERSHEY_SIMPLEX, 0.6, (8, 143, 143), 1, cv2.LINE_AA)\n",
    "\n",
    "        cv2.putText(frame, \"Computer's Move: \" + computer_move_name,\n",
    "                (2, 270), cv2.FONT_HERSHEY_SIMPLEX, 0.6, (8, 143, 143), 1, cv2.LINE_AA)\n",
    "        \n",
    "        cv2.putText(frame, \"Attempts left: {}\".format(total_attempts), (190, 400), cv2.FONT_HERSHEY_COMPLEX, \n",
    "                    0.7, (100, 2, 255), 1, cv2.LINE_AA)\n",
    "        \n",
    "        cv2.rectangle(frame, (width - box_size, 0), (width, box_size), rect_color, 2) \n",
    "\n",
    "    else:\n",
    "        cv2.putText(frame, 'Press ENTER to play again, q to exit.', (130, 450), cv2.FONT_HERSHEY_COMPLEX, 0.7,\n",
    "                (139, 0, 0), 2, cv2.LINE_AA)\n",
    "        \n",
    "\n",
    "    # Display the image    \n",
    "    cv2.imshow(\"Rock Paper Scissors\", frame)\n",
    "\n",
    "    # Exit if 'q' is pressed \n",
    "    k = cv2.waitKey(10)\n",
    "    if k == ord('q'):\n",
    "        return False\n",
    "    \n",
    "    return True"
   ]
  },
  {
   "cell_type": "markdown",
   "metadata": {},
   "source": [
    "### Function to start play game"
   ]
  },
  {
   "cell_type": "code",
   "execution_count": 70,
   "metadata": {
    "scrolled": true
   },
   "outputs": [],
   "source": [
    "# If nothing is not true and hand_inside is False then proceed.\n",
    "# Basically the hand_inside variable is helping us to not repeatedly predict during the loop\n",
    "# So now the user has to take his hands out of the box for every new predicton.\n",
    "        \n",
    "def play():\n",
    "    global user_score, computer_score, total_attempts, computer_move_name, hand_inside, rect_color,\n",
    "        winner, frame\n",
    "    \n",
    "    if final_user_move != \"nothing\" and hand_inside == False:\n",
    "\n",
    "        # Set hand inside to True\n",
    "        hand_inside = True \n",
    "\n",
    "        # Get Computer's move and then get the winner.\n",
    "        computer_move_name = choice(['rock', 'paper', 'scissor'])\n",
    "        winner = findout_winner_one(final_user_move, computer_move_name)\n",
    "\n",
    "        # Display the computer's move\n",
    "        display_computer_move(computer_move_name)\n",
    "\n",
    "        cal_score()\n",
    "        \n",
    "\n",
    "    # Display images when the hand is inside the box even when hand_inside variable is True.\n",
    "    elif final_user_move != \"nothing\" and hand_inside == True:\n",
    "        display_computer_move(computer_move_name)\n",
    "\n",
    "    # If class is nothing then hand_inside becomes False\n",
    "    elif final_user_move == 'nothing':            \n",
    "        hand_inside = False\n",
    "        rect_color = (255, 0, 0)\n",
    "    \n",
    "    if total_attempts == 0:\n",
    "        winner_img = get_winner_img()\n",
    "        display_winner(winner_img)\n",
    "\n",
    "        # If enter is pressed.\n",
    "        k = cv2.waitKey(1)\n",
    "\n",
    "        # If the user presses 'ENTER' key then return TRUE, otherwise FALSE\n",
    "        if k == 13:\n",
    "             user_score, computer_score, total_attempts = 0, 0, attempts"
   ]
  },
  {
   "cell_type": "markdown",
   "metadata": {},
   "source": [
    "### Main flow game"
   ]
  },
  {
   "cell_type": "code",
   "execution_count": 71,
   "metadata": {},
   "outputs": [],
   "source": [
    "while True:\n",
    "    \n",
    "    ret, frame = cap.read()\n",
    "    \n",
    "    if not ret:\n",
    "        break\n",
    "        \n",
    "    create_ui_pro('Rock Paper Scissors')\n",
    "    \n",
    "    pred, user_move, prob = make_prediction()\n",
    "    \n",
    "    # Make sure the probability is above our defined threshold\n",
    "    if prob >= confidence_threshold:\n",
    "        \n",
    "        # Now add the move to deque list from left\n",
    "        de.appendleft(user_move)\n",
    "        \n",
    "        # Get the mode i.e. which class has occured more frequently in the last 5 moves.\n",
    "        try:\n",
    "            final_user_move = st.mode(de)[0][0] \n",
    "            \n",
    "        except StatisticsError:\n",
    "            print('Stats error')\n",
    "            continue      \n",
    "        play()\n",
    "\n",
    "    if not show_ui_game():\n",
    "        break\n",
    "\n",
    "# Relase the camera and destroy all windows.\n",
    "cap.release()\n",
    "cv2.destroyAllWindows()"
   ]
  },
  {
   "cell_type": "code",
   "execution_count": null,
   "metadata": {},
   "outputs": [],
   "source": []
  }
 ],
 "metadata": {
  "kernelspec": {
   "display_name": "Python 3",
   "language": "python",
   "name": "python3"
  },
  "language_info": {
   "codemirror_mode": {
    "name": "ipython",
    "version": 3
   },
   "file_extension": ".py",
   "mimetype": "text/x-python",
   "name": "python",
   "nbconvert_exporter": "python",
   "pygments_lexer": "ipython3",
   "version": "3.7.11"
  }
 },
 "nbformat": 4,
 "nbformat_minor": 2
}
