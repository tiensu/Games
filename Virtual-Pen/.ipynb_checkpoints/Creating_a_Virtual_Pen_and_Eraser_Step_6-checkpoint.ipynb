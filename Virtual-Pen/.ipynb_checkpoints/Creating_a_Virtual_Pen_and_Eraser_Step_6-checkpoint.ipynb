{
 "cells": [
  {
   "cell_type": "markdown",
   "metadata": {},
   "source": [
    "# <center> <font style=\"color:rgb(100,109,254)\">   Creating a Virtual Pen & Eraser </font> </center>\n"
   ]
  },
  {
   "cell_type": "code",
   "execution_count": 1,
   "metadata": {},
   "outputs": [],
   "source": [
    "import cv2\n",
    "import numpy as np\n",
    "import time"
   ]
  },
  {
   "cell_type": "code",
   "execution_count": 2,
   "metadata": {},
   "outputs": [
    {
     "data": {
      "text/plain": [
       "True"
      ]
     },
     "execution_count": 2,
     "metadata": {},
     "output_type": "execute_result"
    }
   ],
   "source": [
    "cap, frame = None, None\n",
    "# Intializing the webcam feed.\n",
    "cap = cv2.VideoCapture(0)\n",
    "cap.set(3,1280)\n",
    "cap.set(4,720)"
   ]
  },
  {
   "cell_type": "code",
   "execution_count": 3,
   "metadata": {},
   "outputs": [],
   "source": [
    "# This variable determines if we want to load color range from memory or use the ones defined here. \n",
    "load_from_disk = True\n",
    "\n",
    "# If true then load color range from memory\n",
    "if load_from_disk:\n",
    "    penval = np.load('penval.npy')\n",
    "\n",
    "# Creating A 5x5 kernel for morphological operations\n",
    "kernel = np.ones((5,5),np.uint8)\n",
    "\n",
    "# Initilize x1,y1 points\n",
    "x1, y1 = 0, 0\n",
    "\n",
    "# Initializing the canvas on which we will draw upon\n",
    "canvas = None\n",
    "\n",
    "# Threshold for noise\n",
    "noiseth = 800\n",
    "\n",
    "# Frame + canvas\n",
    "stacked_fr = None"
   ]
  },
  {
   "cell_type": "markdown",
   "metadata": {},
   "source": [
    "## <font style=\"color:rgb(134,19,348)\">Step 6: Adding the Eraser Functionality</font>\n"
   ]
  },
  {
   "cell_type": "code",
   "execution_count": 4,
   "metadata": {},
   "outputs": [],
   "source": [
    "# Load these 2 images and resize them to the same size.\n",
    "pen_img = cv2.resize(cv2.imread('pen.png',1), (50, 50))\n",
    "eraser_img = cv2.resize(cv2.imread('eraser.jpg',1), (50, 50))\n",
    "\n",
    "# Create a background subtractor Object\n",
    "backgroundobject = cv2.createBackgroundSubtractorMOG2( detectShadows = False )\n",
    "\n",
    "# This threshold determines the amount of disruption in background.\n",
    "background_threshold = 600\n",
    "\n",
    "# A variable which tells you if you're using a pen or an eraser.\n",
    "switch = 'Pen'\n",
    "\n",
    "# With this variable we will monitor the time between previous switch.\n",
    "last_switch = time.time()\n",
    "\n",
    "# A varaible which tells when to clear canvas\n",
    "clear = False\n",
    "\n",
    "# Threshold for wiper, the size of the contour must be bigger than for us to clear the canvas\n",
    "wiper_thresh = 40000"
   ]
  },
  {
   "cell_type": "code",
   "execution_count": 5,
   "metadata": {},
   "outputs": [],
   "source": [
    "def create_object_mask():\n",
    "    global frame\n",
    "    \n",
    "    # Convert BGR to HSV\n",
    "    hsv = cv2.cvtColor(frame, cv2.COLOR_BGR2HSV)\n",
    "    \n",
    "    # If you're reading from memory then load the upper and lower ranges from there\n",
    "    if load_from_disk:\n",
    "            lower_range = penval[0]\n",
    "            upper_range = penval[1]\n",
    "            \n",
    "    # Otherwise define your own custom values for upper and lower range.\n",
    "    else:             \n",
    "        lower_range  = np.array([26,80,147])\n",
    "        upper_range = np.array([81,255,255])\n",
    "    \n",
    "    obj_mask = cv2.inRange(hsv, lower_range, upper_range)\n",
    "    \n",
    "    # Perform the morphological operations to get rid of the noise\n",
    "    obj_mask = cv2.erode(obj_mask, kernel,iterations = 1)\n",
    "    obj_mask = cv2.dilate(obj_mask, kernel,iterations = 2)\n",
    "    \n",
    "    return obj_mask"
   ]
  },
  {
   "cell_type": "code",
   "execution_count": 6,
   "metadata": {},
   "outputs": [],
   "source": [
    "def draw_line(obj_mask):\n",
    "    global clear, frame, canvas, x1, y1, stacked_fr, switch\n",
    "    \n",
    "    # Initilize the canvas as a black image of same size as the frame.\n",
    "    if canvas is None:\n",
    "        canvas = np.zeros_like(frame)\n",
    "    \n",
    "    # Find Contours.\n",
    "    contours, hierarchy = cv2.findContours(obj_mask, cv2.RETR_EXTERNAL, cv2.CHAIN_APPROX_SIMPLE)\n",
    "    \n",
    "    # Make sure there is a contour present and also its size is bigger than the noise threshold.\n",
    "    if contours and cv2.contourArea(max(contours, key = cv2.contourArea)) > noiseth:\n",
    "                \n",
    "        c = max(contours, key = cv2.contourArea)    \n",
    "        x2, y2, w, h = cv2.boundingRect(c)\n",
    "        \n",
    "        # Get the area of the contour\n",
    "        area = cv2.contourArea(c)\n",
    "        \n",
    "        # If there were no previous points then save the detected x2,y2 coordinates as x1,y1. \n",
    "        if x1 == 0 and y1 == 0:\n",
    "            x1, y1 = x2, y2\n",
    "            \n",
    "        else:\n",
    "            # Draw the line on the canvas\n",
    "            if switch == 'Pen':\n",
    "                # Draw the line on the canvas\n",
    "                canvas = cv2.line(canvas, (x1,y1), (x2,y2), [255,0,0], 5)\n",
    "                \n",
    "            else:\n",
    "                cv2.circle(canvas, (x2, y2), 20, (0,0,0), -1)\n",
    "        \n",
    "        # After the line is drawn the new points become the previous points.\n",
    "        x1, y1 = x2, y2\n",
    "        \n",
    "        # Now if the area is greater than the wiper threshold then set the clear variable to True and warn User.\n",
    "        if area > wiper_thresh:\n",
    "            cv2.putText(canvas,'Clearing Canvas',(100,200), cv2.FONT_HERSHEY_SIMPLEX, 2, (0,0,255), 5, cv2.LINE_AA)\n",
    "            clear = True \n",
    "\n",
    "    else:\n",
    "        # If there were no contours detected then make x1,y1 = 0\n",
    "        x1, y1 = 0, 0\n",
    "    \n",
    "   \n",
    "    # Now this piece of code is just for smooth drawing. (Optional)\n",
    "    _ ,mask = cv2.threshold(cv2.cvtColor(canvas, cv2.COLOR_BGR2GRAY), 20, 255, cv2.THRESH_BINARY)\n",
    "    foreground = cv2.bitwise_and(canvas, canvas, mask = mask)\n",
    "    background = cv2.bitwise_and(frame, frame, mask = cv2.bitwise_not(mask))\n",
    "    stacked_fr = cv2.add(foreground, background)"
   ]
  },
  {
   "cell_type": "code",
   "execution_count": 7,
   "metadata": {},
   "outputs": [],
   "source": [
    "def pen_eraser_switcher():\n",
    "    global frame, switch, last_switch\n",
    "    \n",
    "    # Take the top left of the frame and apply the background subtractor there    \n",
    "    top_left = frame[0: 50, 0: 50]\n",
    "    fgmask = backgroundobject.apply(top_left)\n",
    "    \n",
    "    # Note the number of pixels that are white, this is the level of disruption.\n",
    "    switch_thresh = np.sum(fgmask==255)\n",
    "    \n",
    "    # If the disruption is greater than background threshold and there has been some time after the previous switch then you \n",
    "    # can change the object type.\n",
    "    if switch_thresh > background_threshold  and (time.time() - last_switch) > 1:\n",
    "        \n",
    "        # Save the time of the switch. \n",
    "        last_switch = time.time()\n",
    "        \n",
    "        if switch == 'Pen':\n",
    "            switch = 'Eraser'\n",
    "        else:\n",
    "            switch = 'Pen'\n",
    "        print(switch)"
   ]
  },
  {
   "cell_type": "code",
   "execution_count": 8,
   "metadata": {},
   "outputs": [],
   "source": [
    "def switch_image(): \n",
    "    global switch, stacked_fr\n",
    "    \n",
    "    # Switch the images depending upon what we're using, pen or eraser.\n",
    "    if switch != 'Pen':\n",
    "        cv2.circle(stacked_fr, (x1, y1), 20, (255,255,255), -1)\n",
    "        stacked_fr[0: 50, 0: 50] = eraser_img\n",
    "    else:\n",
    "        cv2.circle(stacked_fr, (x1, y1), 20, (0,0,0), -1)\n",
    "        stacked_fr[0: 50, 0: 50] = pen_img"
   ]
  },
  {
   "cell_type": "code",
   "execution_count": 9,
   "metadata": {},
   "outputs": [],
   "source": [
    "def clear_board():\n",
    "    global clear, canvas\n",
    "    \n",
    "    # Clear the canvas after 1 second if the clear variable is true\n",
    "    if clear == True:        \n",
    "        time.sleep(1)\n",
    "        canvas = None\n",
    "        \n",
    "        # And then set clear to false\n",
    "        clear = False"
   ]
  },
  {
   "cell_type": "code",
   "execution_count": 10,
   "metadata": {},
   "outputs": [
    {
     "name": "stdout",
     "output_type": "stream",
     "text": [
      "Eraser\n",
      "Pen\n",
      "Eraser\n",
      "Pen\n",
      "Eraser\n",
      "Pen\n",
      "Eraser\n",
      "Pen\n",
      "Eraser\n"
     ]
    }
   ],
   "source": [
    "while True:\n",
    "    _, frame = cap.read()\n",
    "    frame = cv2.flip(frame, 1 )\n",
    "            \n",
    "    pen_eraser_switcher()\n",
    "\n",
    "    obj_mask = create_object_mask()\n",
    "    draw_line(obj_mask)\n",
    "    switch_image()\n",
    "    \n",
    "    cv2.namedWindow(\"Draw Board\", cv2.WINDOW_FREERATIO)\n",
    "    cv2.imshow('Draw Board',stacked_fr)\n",
    "\n",
    "    k = cv2.waitKey(5) & 0xFF\n",
    "    if k == ord('q'):\n",
    "        break\n",
    "    \n",
    "    clear_board()\n",
    "        \n",
    "cv2.destroyAllWindows()\n",
    "cap.release()"
   ]
  }
 ],
 "metadata": {
  "kernelspec": {
   "display_name": "Python 3",
   "language": "python",
   "name": "python3"
  },
  "language_info": {
   "codemirror_mode": {
    "name": "ipython",
    "version": 3
   },
   "file_extension": ".py",
   "mimetype": "text/x-python",
   "name": "python",
   "nbconvert_exporter": "python",
   "pygments_lexer": "ipython3",
   "version": "3.7.11"
  }
 },
 "nbformat": 4,
 "nbformat_minor": 2
}
