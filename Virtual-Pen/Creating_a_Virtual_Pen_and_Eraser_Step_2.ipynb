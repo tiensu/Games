{
 "cells": [
  {
   "cell_type": "markdown",
   "metadata": {},
   "source": [
    "# <center> <font style=\"color:rgb(100,109,254)\">   Creating a Virtual Pen & Eraser </font> </center>\n"
   ]
  },
  {
   "cell_type": "code",
   "execution_count": 1,
   "metadata": {},
   "outputs": [],
   "source": [
    "import cv2\n",
    "import numpy as np\n",
    "import time"
   ]
  },
  {
   "cell_type": "code",
   "execution_count": 2,
   "metadata": {},
   "outputs": [
    {
     "data": {
      "text/plain": [
       "True"
      ]
     },
     "execution_count": 2,
     "metadata": {},
     "output_type": "execute_result"
    }
   ],
   "source": [
    "cap, frame = None, None\n",
    "# Intializing the webcam feed.\n",
    "cap = cv2.VideoCapture(0)\n",
    "cap.set(3,1280)\n",
    "cap.set(4,720)"
   ]
  },
  {
   "cell_type": "markdown",
   "metadata": {},
   "source": [
    "## <font style=\"color:rgb(134,19,348)\">Step 2: Maximizing the Detection Mask and Getting rid of the noise   </font>"
   ]
  },
  {
   "cell_type": "code",
   "execution_count": 3,
   "metadata": {},
   "outputs": [],
   "source": [
    "# This variable determines if we want to load color range from memory or use the ones defined here. \n",
    "load_from_disk = True\n",
    "\n",
    "# If true then load color range from memory\n",
    "if load_from_disk:\n",
    "    penval = np.load('penval.npy')\n",
    "\n",
    "# Creating A 5x5 kernel for morphological operations\n",
    "kernel = np.ones((5,5),np.uint8)"
   ]
  },
  {
   "cell_type": "code",
   "execution_count": 4,
   "metadata": {},
   "outputs": [],
   "source": [
    "def create_object_stack_image():\n",
    "    global frame\n",
    "    \n",
    "    # Convert BGR to HSV\n",
    "    hsv = cv2.cvtColor(frame, cv2.COLOR_BGR2HSV)\n",
    "    \n",
    "    # If you're reading from memory then load the upper and lower ranges from there\n",
    "    if load_from_disk:\n",
    "            lower_range = penval[0]\n",
    "            upper_range = penval[1]\n",
    "            \n",
    "    # Otherwise define your own custom values for upper and lower range.\n",
    "    else:             \n",
    "        lower_range  = np.array([26,80,147])\n",
    "        upper_range = np.array([81,255,255])\n",
    "    \n",
    "    mask = cv2.inRange(hsv, lower_range, upper_range)\n",
    "    \n",
    "    # Perform the morphological operations to get rid of the noise.\n",
    "    # Erosion Eats away the white part while dilation expands it.\n",
    "    mask = cv2.erode(mask,kernel,iterations = 1)\n",
    "    mask = cv2.dilate(mask,kernel,iterations = 2)\n",
    "\n",
    "    # Visualize the real part of the target color (Optional)\n",
    "    res = cv2.bitwise_and(frame,frame, mask= mask)\n",
    "    \n",
    "    #  Converting the binary mask to 3 channel image, this is just so we can stack it with the others\n",
    "    mask = cv2.cvtColor(mask, cv2.COLOR_GRAY2BGR)\n",
    "    \n",
    "    # stack all frames and show it\n",
    "    obj_stacked_img = np.hstack((mask, frame, res))\n",
    "    \n",
    "    return obj_stacked_img"
   ]
  },
  {
   "cell_type": "code",
   "execution_count": 5,
   "metadata": {},
   "outputs": [],
   "source": [
    "while True:\n",
    "    \n",
    "    ret, frame = cap.read()\n",
    "    if not ret:\n",
    "        break\n",
    "        \n",
    "    frame = cv2.flip(frame, 1)\n",
    "\n",
    "    obj_stacked_img = create_object_stack_image()\n",
    "    cv2.imshow('Trackbars',cv2.resize(obj_stacked_img, None, fx=0.4, fy=0.4))\n",
    "    \n",
    "    # If the user presses ESC then exit the program\n",
    "    key = cv2.waitKey(1)\n",
    "    if key == 27:\n",
    "        break\n",
    "\n",
    "cv2.destroyAllWindows()\n",
    "cap.release()"
   ]
  }
 ],
 "metadata": {
  "kernelspec": {
   "display_name": "Python 3",
   "language": "python",
   "name": "python3"
  },
  "language_info": {
   "codemirror_mode": {
    "name": "ipython",
    "version": 3
   },
   "file_extension": ".py",
   "mimetype": "text/x-python",
   "name": "python",
   "nbconvert_exporter": "python",
   "pygments_lexer": "ipython3",
   "version": "3.7.11"
  }
 },
 "nbformat": 4,
 "nbformat_minor": 2
}
