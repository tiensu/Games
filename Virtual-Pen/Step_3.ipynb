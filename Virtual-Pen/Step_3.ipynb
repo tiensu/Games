{
 "cells": [
  {
   "cell_type": "markdown",
   "metadata": {},
   "source": [
    "# <center> <font style=\"color:rgb(100,109,254)\">   Creating a Virtual Pen & Eraser </font> </center>\n"
   ]
  },
  {
   "cell_type": "code",
   "execution_count": 2,
   "metadata": {},
   "outputs": [],
   "source": [
    "import cv2\n",
    "import numpy as np\n",
    "import time"
   ]
  },
  {
   "cell_type": "code",
   "execution_count": 3,
   "metadata": {},
   "outputs": [
    {
     "data": {
      "text/plain": [
       "True"
      ]
     },
     "execution_count": 3,
     "metadata": {},
     "output_type": "execute_result"
    }
   ],
   "source": [
    "cap, frame = None, None\n",
    "# Intializing the webcam feed.\n",
    "cap = cv2.VideoCapture(0)\n",
    "cap.set(3,1280)\n",
    "cap.set(4,720)"
   ]
  },
  {
   "cell_type": "code",
   "execution_count": 4,
   "metadata": {},
   "outputs": [],
   "source": [
    "# This variable determines if we want to load color range from memory or use the ones defined here. \n",
    "load_from_disk = True\n",
    "\n",
    "# If true then load color range from memory\n",
    "if load_from_disk:\n",
    "    penval = np.load('penval.npy')\n",
    "\n",
    "# Creating A 5x5 kernel for morphological operations\n",
    "kernel = np.ones((5,5),np.uint8)"
   ]
  },
  {
   "cell_type": "markdown",
   "metadata": {},
   "source": [
    "## <font style=\"color:rgb(134,19,348)\">Step 3: Tracking the Target Pen  </font>"
   ]
  },
  {
   "cell_type": "code",
   "execution_count": 5,
   "metadata": {},
   "outputs": [],
   "source": [
    "def create_object_mask():\n",
    "    global frame\n",
    "    \n",
    "    # Convert BGR to HSV\n",
    "    hsv = cv2.cvtColor(frame, cv2.COLOR_BGR2HSV)\n",
    "    \n",
    "    # If you're reading from memory then load the upper and lower ranges from there\n",
    "    if load_from_disk:\n",
    "            lower_range = penval[0]\n",
    "            upper_range = penval[1]\n",
    "            \n",
    "    # Otherwise define your own custom values for upper and lower range.\n",
    "    else:             \n",
    "        lower_range  = np.array([26,80,147])\n",
    "        upper_range = np.array([81,255,255])\n",
    "    \n",
    "    obj_mask = cv2.inRange(hsv, lower_range, upper_range)\n",
    "    \n",
    "    # Perform the morphological operations to get rid of the noise\n",
    "    obj_mask = cv2.erode(obj_mask, kernel,iterations = 1)\n",
    "    obj_mask = cv2.dilate(obj_mask, kernel,iterations = 2)\n",
    "    \n",
    "    return obj_mask"
   ]
  },
  {
   "cell_type": "code",
   "execution_count": 6,
   "metadata": {},
   "outputs": [],
   "source": [
    "def draw_object_contour(obj_mask):\n",
    "    \n",
    "    # Find Contours in the frame.\n",
    "    contours, hierarchy = cv2.findContours(obj_mask, cv2.RETR_EXTERNAL,\n",
    "                                           cv2.CHAIN_APPROX_SIMPLE)\n",
    "    \n",
    "    # Make sure there is a contour present and also make sure its size is bigger than noise threshold.\n",
    "    if contours and cv2.contourArea(max(contours, key = cv2.contourArea)) > noiseth:\n",
    "        \n",
    "        # Grab the biggest contour with respect to area\n",
    "        c = max(contours, key = cv2.contourArea)\n",
    "        \n",
    "        # Get bounding box coordinates around that contour\n",
    "        x,y,w,h = cv2.boundingRect(c)\n",
    "        \n",
    "        # Draw that bounding box\n",
    "        cv2.rectangle(frame,(x,y),(x+w,y+h),(0,25,255),2)        "
   ]
  },
  {
   "cell_type": "code",
   "execution_count": 7,
   "metadata": {},
   "outputs": [],
   "source": [
    "# This threshold is used to filter noise, the contour area must be bigger than this to qualify as \n",
    "# an actual contour.\n",
    "noiseth = 500"
   ]
  },
  {
   "cell_type": "code",
   "execution_count": 8,
   "metadata": {},
   "outputs": [],
   "source": [
    "while True:\n",
    "    \n",
    "    _, frame = cap.read()\n",
    "    frame = cv2.flip( frame, 1 )\n",
    "\n",
    "    obj_mask = create_object_mask()\n",
    "    \n",
    "    draw_object_contour(obj_mask)      \n",
    "\n",
    "    cv2.imshow('image',frame)\n",
    "    \n",
    "    k = cv2.waitKey(5) & 0xFF\n",
    "    if k == 27:\n",
    "        break\n",
    "\n",
    "cv2.destroyAllWindows()\n",
    "cap.release()"
   ]
  }
 ],
 "metadata": {
  "kernelspec": {
   "display_name": "Python 3",
   "language": "python",
   "name": "python3"
  },
  "language_info": {
   "codemirror_mode": {
    "name": "ipython",
    "version": 3
   },
   "file_extension": ".py",
   "mimetype": "text/x-python",
   "name": "python",
   "nbconvert_exporter": "python",
   "pygments_lexer": "ipython3",
   "version": "3.7.11"
  }
 },
 "nbformat": 4,
 "nbformat_minor": 2
}
